{
 "cells": [
  {
   "cell_type": "code",
   "execution_count": 94,
   "id": "859a0dde-f286-45e8-a685-ef7908dcd98b",
   "metadata": {},
   "outputs": [],
   "source": [
    "import numpy as np\n",
    "import matplotlib.pyplot as plt\n",
    "\n",
    "from keras.datasets import mnist\n",
    "\n",
    "from sklearn.model_selection import train_test_split"
   ]
  },
  {
   "cell_type": "code",
   "execution_count": 95,
   "id": "628538aa-2c4c-490c-b4f1-0345e8f946f8",
   "metadata": {},
   "outputs": [],
   "source": [
    "from keras.models import Sequential\n",
    "from keras.layers import Dense, Conv2D, MaxPool2D, Flatten\n",
    "from keras.utils.np_utils import to_categorical"
   ]
  },
  {
   "cell_type": "code",
   "execution_count": 96,
   "id": "7364636f-ec42-494a-9dc5-87c6a70d3e0c",
   "metadata": {},
   "outputs": [],
   "source": [
    "(X_train,y_train), (X_test,y_test) = mnist.load_data()"
   ]
  },
  {
   "cell_type": "code",
   "execution_count": 97,
   "id": "c8ba586c-90a4-4ddf-9a38-4e44aedcd57f",
   "metadata": {},
   "outputs": [],
   "source": [
    "y_train = to_categorical(y_train)"
   ]
  },
  {
   "cell_type": "code",
   "execution_count": 98,
   "id": "31121c25-a92c-464d-a437-dced24a607b3",
   "metadata": {},
   "outputs": [
    {
     "data": {
      "text/plain": [
       "(60000, 28, 28)"
      ]
     },
     "execution_count": 98,
     "metadata": {},
     "output_type": "execute_result"
    }
   ],
   "source": [
    "X_train.shape"
   ]
  },
  {
   "cell_type": "code",
   "execution_count": 21,
   "id": "41102bcd-feb1-4c46-89a6-23bce0270964",
   "metadata": {},
   "outputs": [],
   "source": [
    "X_train = X_train.reshape(-1,28,28,1)\n",
    "\n",
    "input_shape=(X_train.shape[1],X_train.shape[2],X_train.shape[3])\n",
    "\n",
    "output_shape = y_train.shape"
   ]
  },
  {
   "cell_type": "code",
   "execution_count": 22,
   "id": "0314a764-598f-4a7b-9eaa-22e435481af0",
   "metadata": {},
   "outputs": [],
   "source": [
    "network = Sequential()\n",
    "network.add(Conv2D(32,(3,3),activation='relu',input_shape=input_shape))\n",
    "network.add(MaxPool2D((2,2)))\n",
    "network.add(Conv2D(64,(3,3),activation='elu'))\n",
    "network.add(MaxPool2D((2,2)))\n",
    "network.add(Conv2D(64,(3,3),activation='elu'))\n",
    "network.add(Flatten())\n",
    "network.add(Dense(128,activation='relu'))\n",
    "network.add(Dense(10,activation='softmax'))"
   ]
  },
  {
   "cell_type": "code",
   "execution_count": 23,
   "id": "e43740fb-a9c7-4cba-bd1d-6ae92c6cd67d",
   "metadata": {},
   "outputs": [
    {
     "name": "stdout",
     "output_type": "stream",
     "text": [
      "Model: \"sequential_4\"\n",
      "_________________________________________________________________\n",
      " Layer (type)                Output Shape              Param #   \n",
      "=================================================================\n",
      " conv2d_12 (Conv2D)          (None, 26, 26, 32)        320       \n",
      "                                                                 \n",
      " max_pooling2d_8 (MaxPooling  (None, 13, 13, 32)       0         \n",
      " 2D)                                                             \n",
      "                                                                 \n",
      " conv2d_13 (Conv2D)          (None, 11, 11, 64)        18496     \n",
      "                                                                 \n",
      " max_pooling2d_9 (MaxPooling  (None, 5, 5, 64)         0         \n",
      " 2D)                                                             \n",
      "                                                                 \n",
      " conv2d_14 (Conv2D)          (None, 3, 3, 64)          36928     \n",
      "                                                                 \n",
      " flatten_2 (Flatten)         (None, 576)               0         \n",
      "                                                                 \n",
      " dense_8 (Dense)             (None, 128)               73856     \n",
      "                                                                 \n",
      " dense_9 (Dense)             (None, 10)                1290      \n",
      "                                                                 \n",
      "=================================================================\n",
      "Total params: 130,890\n",
      "Trainable params: 130,890\n",
      "Non-trainable params: 0\n",
      "_________________________________________________________________\n"
     ]
    }
   ],
   "source": [
    "network.summary()"
   ]
  },
  {
   "cell_type": "code",
   "execution_count": 30,
   "id": "c9e51b38-3a79-4ef8-bed5-06c13b96bcce",
   "metadata": {},
   "outputs": [],
   "source": [
    "X_train,X_val,y_train,y_val = train_test_split(X_train,y_train, test_size=0.2)"
   ]
  },
  {
   "cell_type": "code",
   "execution_count": 31,
   "id": "0a7ba48e-4a8f-485f-906e-1ef790983de1",
   "metadata": {},
   "outputs": [],
   "source": [
    "optimizer = 'adam'\n",
    "loss = 'categorical_crossentropy'\n",
    "metric = ['accuracy']\n",
    "\n",
    "network.compile(optimizer=optimizer,loss=loss, metrics=metric)"
   ]
  },
  {
   "cell_type": "code",
   "execution_count": 32,
   "id": "cd8b8a3b-ba80-4dd5-9704-c2fe45f4aa6a",
   "metadata": {},
   "outputs": [
    {
     "name": "stdout",
     "output_type": "stream",
     "text": [
      "Epoch 1/30\n",
      "120/120 [==============================] - 19s 154ms/step - loss: 0.0594 - accuracy: 0.9825 - val_loss: 0.0507 - val_accuracy: 0.9837\n",
      "Epoch 2/30\n",
      "120/120 [==============================] - 18s 148ms/step - loss: 0.0315 - accuracy: 0.9900 - val_loss: 0.0458 - val_accuracy: 0.9868\n",
      "Epoch 3/30\n",
      "120/120 [==============================] - 18s 150ms/step - loss: 0.0229 - accuracy: 0.9925 - val_loss: 0.0551 - val_accuracy: 0.9857\n",
      "Epoch 4/30\n",
      "120/120 [==============================] - 18s 148ms/step - loss: 0.0149 - accuracy: 0.9953 - val_loss: 0.0485 - val_accuracy: 0.9877\n",
      "Epoch 5/30\n",
      "120/120 [==============================] - 18s 154ms/step - loss: 0.0156 - accuracy: 0.9945 - val_loss: 0.0481 - val_accuracy: 0.9888\n",
      "Epoch 6/30\n",
      "120/120 [==============================] - 17s 145ms/step - loss: 0.0092 - accuracy: 0.9971 - val_loss: 0.0478 - val_accuracy: 0.9896\n",
      "Epoch 7/30\n",
      "120/120 [==============================] - 17s 143ms/step - loss: 0.0079 - accuracy: 0.9974 - val_loss: 0.0561 - val_accuracy: 0.9876\n",
      "Epoch 8/30\n",
      "120/120 [==============================] - 18s 150ms/step - loss: 0.0087 - accuracy: 0.9971 - val_loss: 0.0477 - val_accuracy: 0.9887\n",
      "Epoch 9/30\n",
      "120/120 [==============================] - 18s 148ms/step - loss: 0.0092 - accuracy: 0.9968 - val_loss: 0.0536 - val_accuracy: 0.9889\n",
      "Epoch 10/30\n",
      "120/120 [==============================] - 18s 147ms/step - loss: 0.0101 - accuracy: 0.9970 - val_loss: 0.0658 - val_accuracy: 0.9882\n",
      "Epoch 11/30\n",
      "120/120 [==============================] - 18s 153ms/step - loss: 0.0081 - accuracy: 0.9974 - val_loss: 0.0636 - val_accuracy: 0.9877\n",
      "Epoch 12/30\n",
      "120/120 [==============================] - 18s 150ms/step - loss: 0.0115 - accuracy: 0.9963 - val_loss: 0.0687 - val_accuracy: 0.9866\n",
      "Epoch 13/30\n",
      "120/120 [==============================] - 18s 146ms/step - loss: 0.0072 - accuracy: 0.9975 - val_loss: 0.0728 - val_accuracy: 0.9883\n",
      "Epoch 14/30\n",
      "120/120 [==============================] - 18s 149ms/step - loss: 0.0055 - accuracy: 0.9981 - val_loss: 0.0764 - val_accuracy: 0.9872\n",
      "Epoch 15/30\n",
      "120/120 [==============================] - 18s 154ms/step - loss: 0.0080 - accuracy: 0.9975 - val_loss: 0.0533 - val_accuracy: 0.9893\n",
      "Epoch 16/30\n",
      "120/120 [==============================] - 18s 146ms/step - loss: 0.0061 - accuracy: 0.9982 - val_loss: 0.0718 - val_accuracy: 0.9873\n",
      "Epoch 17/30\n",
      "120/120 [==============================] - 18s 148ms/step - loss: 0.0039 - accuracy: 0.9983 - val_loss: 0.0698 - val_accuracy: 0.9893\n",
      "Epoch 18/30\n",
      "120/120 [==============================] - 18s 152ms/step - loss: 0.0078 - accuracy: 0.9975 - val_loss: 0.0784 - val_accuracy: 0.9864\n",
      "Epoch 19/30\n",
      "120/120 [==============================] - 17s 146ms/step - loss: 0.0072 - accuracy: 0.9976 - val_loss: 0.0658 - val_accuracy: 0.9887\n",
      "Epoch 20/30\n",
      "120/120 [==============================] - 18s 147ms/step - loss: 0.0052 - accuracy: 0.9982 - val_loss: 0.0699 - val_accuracy: 0.9878\n",
      "Epoch 21/30\n",
      "120/120 [==============================] - 18s 148ms/step - loss: 0.0082 - accuracy: 0.9977 - val_loss: 0.0898 - val_accuracy: 0.9858\n",
      "Epoch 22/30\n",
      "120/120 [==============================] - 17s 145ms/step - loss: 0.0077 - accuracy: 0.9978 - val_loss: 0.0766 - val_accuracy: 0.9865\n",
      "Epoch 23/30\n",
      "120/120 [==============================] - 18s 152ms/step - loss: 0.0058 - accuracy: 0.9984 - val_loss: 0.0717 - val_accuracy: 0.9879\n",
      "Epoch 24/30\n",
      "120/120 [==============================] - 18s 150ms/step - loss: 0.0026 - accuracy: 0.9992 - val_loss: 0.0578 - val_accuracy: 0.9908\n",
      "Epoch 25/30\n",
      "120/120 [==============================] - 18s 149ms/step - loss: 0.0052 - accuracy: 0.9984 - val_loss: 0.0845 - val_accuracy: 0.9869\n",
      "Epoch 26/30\n",
      "120/120 [==============================] - 18s 146ms/step - loss: 0.0042 - accuracy: 0.9986 - val_loss: 0.0738 - val_accuracy: 0.9883\n",
      "Epoch 27/30\n",
      "120/120 [==============================] - 18s 148ms/step - loss: 0.0032 - accuracy: 0.9987 - val_loss: 0.0709 - val_accuracy: 0.9877\n",
      "Epoch 28/30\n",
      "120/120 [==============================] - 18s 148ms/step - loss: 0.0048 - accuracy: 0.9987 - val_loss: 0.0798 - val_accuracy: 0.9893\n",
      "Epoch 29/30\n",
      "120/120 [==============================] - 18s 148ms/step - loss: 0.0081 - accuracy: 0.9976 - val_loss: 0.0790 - val_accuracy: 0.9871\n",
      "Epoch 30/30\n",
      "120/120 [==============================] - 18s 148ms/step - loss: 0.0097 - accuracy: 0.9973 - val_loss: 0.0734 - val_accuracy: 0.9885\n"
     ]
    },
    {
     "data": {
      "text/plain": [
       "<keras.callbacks.History at 0x7fc118ee1d00>"
      ]
     },
     "execution_count": 32,
     "metadata": {},
     "output_type": "execute_result"
    }
   ],
   "source": [
    "epoch = 30\n",
    "batch_size = 400\n",
    "\n",
    "network.fit(X_train, y_train, batch_size=batch_size, epochs=epoch,validation_data=[X_val,y_val])"
   ]
  },
  {
   "cell_type": "code",
   "execution_count": null,
   "id": "64aeef19-00b1-4461-a4d9-307a56dfb857",
   "metadata": {},
   "outputs": [],
   "source": []
  },
  {
   "cell_type": "code",
   "execution_count": 33,
   "id": "17d570d0-353a-4b91-af96-c82115392a5c",
   "metadata": {},
   "outputs": [],
   "source": [
    "X_test = X_test.reshape(-1,28,28,3)\n",
    "y_test = to_categorical(y_test)"
   ]
  },
  {
   "cell_type": "code",
   "execution_count": 35,
   "id": "0419ab64-4361-469c-9414-641c1844d158",
   "metadata": {},
   "outputs": [
    {
     "name": "stdout",
     "output_type": "stream",
     "text": [
      "313/313 [==============================] - 2s 4ms/step - loss: 0.0777 - accuracy: 0.9867\n"
     ]
    },
    {
     "data": {
      "text/plain": [
       "[0.07766931504011154, 0.9866999983787537]"
      ]
     },
     "execution_count": 35,
     "metadata": {},
     "output_type": "execute_result"
    }
   ],
   "source": [
    "network.evaluate(X_test,y_test)"
   ]
  },
  {
   "cell_type": "code",
   "execution_count": 41,
   "id": "6f850ede-99cf-4979-b41d-7b972c119fa8",
   "metadata": {},
   "outputs": [
    {
     "name": "stdout",
     "output_type": "stream",
     "text": [
      "313/313 [==============================] - 1s 3ms/step - loss: 0.0777 - accuracy: 0.9867\n"
     ]
    },
    {
     "data": {
      "text/plain": [
       "133.00001621246338"
      ]
     },
     "execution_count": 41,
     "metadata": {},
     "output_type": "execute_result"
    }
   ],
   "source": [
    "X_test.shape[0] *  (1- network.evaluate(X_test,y_test)[1])"
   ]
  },
  {
   "cell_type": "code",
   "execution_count": 37,
   "id": "34c022a9-e26e-4fb8-afb5-5980fe1e7bd8",
   "metadata": {},
   "outputs": [],
   "source": [
    "wrong_predict = np.argmax(y_test,axis=1) != np.argmax(network.predict(X_test),axis=1)"
   ]
  },
  {
   "cell_type": "code",
   "execution_count": 57,
   "id": "064d91ee-1159-4e3b-93c7-2a7a4c7ed932",
   "metadata": {},
   "outputs": [],
   "source": [
    "x = X_test[wrong_predict]\n",
    "y = np.argmax(network.predict(x),axis=1)\n",
    "t = y_test[wrong_predict]"
   ]
  },
  {
   "cell_type": "code",
   "execution_count": 58,
   "id": "eebb86e4-cec8-4142-ac6f-ee485bbbeff5",
   "metadata": {},
   "outputs": [
    {
     "data": {
      "text/plain": [
       "(133, 28, 28, 1)"
      ]
     },
     "execution_count": 58,
     "metadata": {},
     "output_type": "execute_result"
    }
   ],
   "source": [
    "x.shape"
   ]
  },
  {
   "cell_type": "code",
   "execution_count": 59,
   "id": "1c12edc3-b2c0-40a3-8f99-2fb8d6cadcc6",
   "metadata": {},
   "outputs": [],
   "source": [
    "t = np.argmax(t,axis=1)"
   ]
  },
  {
   "cell_type": "code",
   "execution_count": 122,
   "id": "9d207843-8ec8-4ad0-a631-9a9a1667cb05",
   "metadata": {},
   "outputs": [],
   "source": [
    "from keras.datasets import cifar10\n"
   ]
  },
  {
   "cell_type": "code",
   "execution_count": 123,
   "id": "a34665eb-d1a7-4559-be1e-dcd400e2c5d1",
   "metadata": {},
   "outputs": [],
   "source": [
    "(X_train,y_train), (X_test,y_test) = cifar10.load_data()"
   ]
  },
  {
   "cell_type": "code",
   "execution_count": 124,
   "id": "08625b92-d838-4c75-bf81-1b86241a02b3",
   "metadata": {},
   "outputs": [
    {
     "data": {
      "text/plain": [
       "(50000, 32, 32, 3)"
      ]
     },
     "execution_count": 124,
     "metadata": {},
     "output_type": "execute_result"
    }
   ],
   "source": [
    "X_train.shape"
   ]
  },
  {
   "cell_type": "code",
   "execution_count": 125,
   "id": "c6781b10-0245-45b2-847a-a6224b42f523",
   "metadata": {},
   "outputs": [],
   "source": [
    "y_train = to_categorical(y_train)"
   ]
  },
  {
   "cell_type": "code",
   "execution_count": 126,
   "id": "6ed1cf52-1c24-4c56-8d49-215197716c8c",
   "metadata": {},
   "outputs": [],
   "source": [
    "X_train = X_train.reshape(-1,32,32,3)\n",
    "\n",
    "input_shape=(X_train.shape[1],X_train.shape[2],X_train.shape[3])\n",
    "\n",
    "output_shape = y_train.shape[1]"
   ]
  },
  {
   "cell_type": "code",
   "execution_count": 127,
   "id": "0a48e71e-0236-401f-8603-36499a055999",
   "metadata": {},
   "outputs": [
    {
     "data": {
      "text/plain": [
       "10"
      ]
     },
     "execution_count": 127,
     "metadata": {},
     "output_type": "execute_result"
    }
   ],
   "source": [
    "X_train.shape\n",
    "output_shape"
   ]
  },
  {
   "cell_type": "code",
   "execution_count": 128,
   "id": "d9dfcda3-9692-4c55-b047-64311ee0538e",
   "metadata": {},
   "outputs": [],
   "source": [
    "network = Sequential()\n",
    "network.add(Conv2D(32,(3,3),activation='relu',input_shape=input_shape))\n",
    "network.add(MaxPool2D((2,2)))\n",
    "network.add(Conv2D(64,(3,3),activation='elu'))\n",
    "network.add(MaxPool2D((2,2)))\n",
    "network.add(Conv2D(64,(3,3),activation='elu'))\n",
    "network.add(Flatten())\n",
    "network.add(Dense(128,activation='relu'))\n",
    "network.add(Dense(output_shape,activation='softmax'))"
   ]
  },
  {
   "cell_type": "code",
   "execution_count": 129,
   "id": "bf3898a6-f5ad-4449-a40a-af245742b0e2",
   "metadata": {},
   "outputs": [
    {
     "name": "stdout",
     "output_type": "stream",
     "text": [
      "Model: \"sequential_10\"\n",
      "_________________________________________________________________\n",
      " Layer (type)                Output Shape              Param #   \n",
      "=================================================================\n",
      " conv2d_30 (Conv2D)          (None, 30, 30, 32)        896       \n",
      "                                                                 \n",
      " max_pooling2d_20 (MaxPoolin  (None, 15, 15, 32)       0         \n",
      " g2D)                                                            \n",
      "                                                                 \n",
      " conv2d_31 (Conv2D)          (None, 13, 13, 64)        18496     \n",
      "                                                                 \n",
      " max_pooling2d_21 (MaxPoolin  (None, 6, 6, 64)         0         \n",
      " g2D)                                                            \n",
      "                                                                 \n",
      " conv2d_32 (Conv2D)          (None, 4, 4, 64)          36928     \n",
      "                                                                 \n",
      " flatten_8 (Flatten)         (None, 1024)              0         \n",
      "                                                                 \n",
      " dense_20 (Dense)            (None, 128)               131200    \n",
      "                                                                 \n",
      " dense_21 (Dense)            (None, 10)                1290      \n",
      "                                                                 \n",
      "=================================================================\n",
      "Total params: 188,810\n",
      "Trainable params: 188,810\n",
      "Non-trainable params: 0\n",
      "_________________________________________________________________\n"
     ]
    }
   ],
   "source": [
    "network.summary()"
   ]
  },
  {
   "cell_type": "code",
   "execution_count": 130,
   "id": "967488f7-d380-4c71-b416-1c0f0c7a36d1",
   "metadata": {},
   "outputs": [],
   "source": [
    "X_train,X_val,y_train,y_val = train_test_split(X_train,y_train, test_size=0.2)\n",
    "\n",
    "optimizer = 'adam'\n",
    "loss = 'categorical_crossentropy'\n",
    "metric = ['accuracy']\n",
    "\n",
    "\n",
    "network.compile(optimizer=optimizer,loss=loss, metrics=metric)"
   ]
  },
  {
   "cell_type": "code",
   "execution_count": 131,
   "id": "73b9f6d4-e2e8-4b10-915c-a6becab6112c",
   "metadata": {},
   "outputs": [
    {
     "name": "stderr",
     "output_type": "stream",
     "text": [
      "2022-05-04 17:29:42.316818: W tensorflow/core/framework/cpu_allocator_impl.cc:82] Allocation of 122880000 exceeds 10% of free system memory.\n"
     ]
    },
    {
     "name": "stdout",
     "output_type": "stream",
     "text": [
      "Epoch 1/30\n",
      "100/100 [==============================] - 23s 221ms/step - loss: 4.0059 - accuracy: 0.2248 - val_loss: 1.8289 - val_accuracy: 0.3111\n",
      "Epoch 2/30\n",
      "100/100 [==============================] - 21s 215ms/step - loss: 1.6717 - accuracy: 0.3849 - val_loss: 1.5332 - val_accuracy: 0.4399\n",
      "Epoch 3/30\n",
      "100/100 [==============================] - 22s 223ms/step - loss: 1.4917 - accuracy: 0.4605 - val_loss: 1.4347 - val_accuracy: 0.4752\n",
      "Epoch 4/30\n",
      "100/100 [==============================] - 21s 208ms/step - loss: 1.3804 - accuracy: 0.5009 - val_loss: 1.3338 - val_accuracy: 0.5203\n",
      "Epoch 5/30\n",
      "100/100 [==============================] - 21s 209ms/step - loss: 1.2861 - accuracy: 0.5370 - val_loss: 1.2835 - val_accuracy: 0.5310\n",
      "Epoch 6/30\n",
      "100/100 [==============================] - 23s 226ms/step - loss: 1.2178 - accuracy: 0.5617 - val_loss: 1.2402 - val_accuracy: 0.5570\n",
      "Epoch 7/30\n",
      "100/100 [==============================] - 22s 222ms/step - loss: 1.1576 - accuracy: 0.5881 - val_loss: 1.2010 - val_accuracy: 0.5723\n",
      "Epoch 8/30\n",
      "100/100 [==============================] - 22s 224ms/step - loss: 1.1098 - accuracy: 0.6051 - val_loss: 1.1475 - val_accuracy: 0.5891\n",
      "Epoch 9/30\n",
      "100/100 [==============================] - 21s 214ms/step - loss: 1.0735 - accuracy: 0.6184 - val_loss: 1.1379 - val_accuracy: 0.5963\n",
      "Epoch 10/30\n",
      "100/100 [==============================] - 22s 217ms/step - loss: 1.0169 - accuracy: 0.6400 - val_loss: 1.1107 - val_accuracy: 0.6025\n",
      "Epoch 11/30\n",
      "100/100 [==============================] - 22s 217ms/step - loss: 0.9670 - accuracy: 0.6577 - val_loss: 1.0782 - val_accuracy: 0.6204\n",
      "Epoch 12/30\n",
      "100/100 [==============================] - 21s 211ms/step - loss: 0.9190 - accuracy: 0.6748 - val_loss: 1.0466 - val_accuracy: 0.6330\n",
      "Epoch 13/30\n",
      "100/100 [==============================] - 21s 212ms/step - loss: 0.8754 - accuracy: 0.6920 - val_loss: 1.0176 - val_accuracy: 0.6433\n",
      "Epoch 14/30\n",
      "100/100 [==============================] - 21s 210ms/step - loss: 0.8295 - accuracy: 0.7085 - val_loss: 1.0514 - val_accuracy: 0.6418\n",
      "Epoch 15/30\n",
      "100/100 [==============================] - 21s 214ms/step - loss: 0.8051 - accuracy: 0.7164 - val_loss: 1.0756 - val_accuracy: 0.6328\n",
      "Epoch 16/30\n",
      "100/100 [==============================] - 22s 215ms/step - loss: 0.7593 - accuracy: 0.7347 - val_loss: 1.0575 - val_accuracy: 0.6446\n",
      "Epoch 17/30\n",
      "100/100 [==============================] - 22s 219ms/step - loss: 0.7232 - accuracy: 0.7477 - val_loss: 1.0263 - val_accuracy: 0.6619\n",
      "Epoch 18/30\n",
      "100/100 [==============================] - 21s 215ms/step - loss: 0.6798 - accuracy: 0.7625 - val_loss: 1.0417 - val_accuracy: 0.6539\n",
      "Epoch 19/30\n",
      "100/100 [==============================] - 22s 223ms/step - loss: 0.6381 - accuracy: 0.7771 - val_loss: 1.0728 - val_accuracy: 0.6495\n",
      "Epoch 20/30\n",
      "100/100 [==============================] - 22s 222ms/step - loss: 0.5928 - accuracy: 0.7931 - val_loss: 1.0500 - val_accuracy: 0.6653\n",
      "Epoch 21/30\n",
      "100/100 [==============================] - 22s 225ms/step - loss: 0.5478 - accuracy: 0.8105 - val_loss: 1.0688 - val_accuracy: 0.6672\n",
      "Epoch 22/30\n",
      "100/100 [==============================] - 23s 227ms/step - loss: 0.5208 - accuracy: 0.8200 - val_loss: 1.1259 - val_accuracy: 0.6581\n",
      "Epoch 23/30\n",
      "100/100 [==============================] - 22s 220ms/step - loss: 0.4722 - accuracy: 0.8377 - val_loss: 1.1534 - val_accuracy: 0.6671\n",
      "Epoch 24/30\n",
      "100/100 [==============================] - 21s 208ms/step - loss: 0.4489 - accuracy: 0.8451 - val_loss: 1.1879 - val_accuracy: 0.6576\n",
      "Epoch 25/30\n",
      "100/100 [==============================] - 21s 211ms/step - loss: 0.4117 - accuracy: 0.8576 - val_loss: 1.2813 - val_accuracy: 0.6498\n",
      "Epoch 26/30\n",
      "100/100 [==============================] - 23s 226ms/step - loss: 0.3649 - accuracy: 0.8739 - val_loss: 1.2954 - val_accuracy: 0.6587\n",
      "Epoch 27/30\n",
      "100/100 [==============================] - 23s 226ms/step - loss: 0.3536 - accuracy: 0.8765 - val_loss: 1.3425 - val_accuracy: 0.6556\n",
      "Epoch 28/30\n",
      "100/100 [==============================] - 21s 209ms/step - loss: 0.3208 - accuracy: 0.8888 - val_loss: 1.3531 - val_accuracy: 0.6549\n",
      "Epoch 29/30\n",
      "100/100 [==============================] - 22s 218ms/step - loss: 0.2955 - accuracy: 0.8990 - val_loss: 1.4007 - val_accuracy: 0.6570\n",
      "Epoch 30/30\n",
      "100/100 [==============================] - 21s 208ms/step - loss: 0.2555 - accuracy: 0.9146 - val_loss: 1.5817 - val_accuracy: 0.6465\n"
     ]
    },
    {
     "data": {
      "text/plain": [
       "<keras.callbacks.History at 0x7fc11880a100>"
      ]
     },
     "execution_count": 131,
     "metadata": {},
     "output_type": "execute_result"
    }
   ],
   "source": [
    "epoch = 30\n",
    "batch_size = 400\n",
    "\n",
    "network.fit(X_train, y_train, batch_size=batch_size, epochs=epoch,validation_data=[X_val,y_val])"
   ]
  },
  {
   "cell_type": "code",
   "execution_count": null,
   "id": "b328ef8d-9ef5-46f5-a535-98a3396c02f9",
   "metadata": {},
   "outputs": [],
   "source": []
  },
  {
   "cell_type": "code",
   "execution_count": 135,
   "id": "47252502-03bf-4c0b-b1dd-310effa7b732",
   "metadata": {},
   "outputs": [],
   "source": [
    "X_test = X_test.reshape(-1,32,32,3)\n",
    "y_test = to_categorical(y_test)"
   ]
  },
  {
   "cell_type": "code",
   "execution_count": 136,
   "id": "2939a2e7-2be2-4127-83d3-1ff9bba3d654",
   "metadata": {},
   "outputs": [
    {
     "name": "stdout",
     "output_type": "stream",
     "text": [
      "313/313 [==============================] - 2s 5ms/step - loss: 1.5803 - accuracy: 0.6397\n"
     ]
    },
    {
     "data": {
      "text/plain": [
       "[1.580327033996582, 0.6396999955177307]"
      ]
     },
     "execution_count": 136,
     "metadata": {},
     "output_type": "execute_result"
    }
   ],
   "source": [
    "network.evaluate(X_test,y_test)"
   ]
  },
  {
   "cell_type": "code",
   "execution_count": 137,
   "id": "3f3ac34a-5ecb-469f-ab60-91f3c0d71ad3",
   "metadata": {},
   "outputs": [
    {
     "name": "stdout",
     "output_type": "stream",
     "text": [
      "313/313 [==============================] - 1s 5ms/step - loss: 1.5803 - accuracy: 0.6397\n"
     ]
    },
    {
     "data": {
      "text/plain": [
       "3603.000044822693"
      ]
     },
     "execution_count": 137,
     "metadata": {},
     "output_type": "execute_result"
    }
   ],
   "source": [
    "X_test.shape[0] *  (1- network.evaluate(X_test,y_test)[1])"
   ]
  },
  {
   "cell_type": "code",
   "execution_count": 145,
   "id": "9eacb495-fc7a-49f5-ad5c-a8d50073efe7",
   "metadata": {},
   "outputs": [],
   "source": [
    "wrong_predict = np.argmax(y_test,axis=1) != np.argmax(network.predict(X_test),axis=1)"
   ]
  },
  {
   "cell_type": "code",
   "execution_count": 146,
   "id": "1cd1e6d8-be3c-474a-922a-c8397fd3b20a",
   "metadata": {},
   "outputs": [],
   "source": [
    "x = X_test[wrong_predict]\n",
    "y = np.argmax(network.predict(x),axis=1)\n",
    "t = y_test[wrong_predict]"
   ]
  },
  {
   "cell_type": "code",
   "execution_count": 147,
   "id": "d9614b69-1e89-4ef9-8d4a-4fdf322611c1",
   "metadata": {},
   "outputs": [],
   "source": [
    "t = np.argmax(t,axis=1)"
   ]
  },
  {
   "cell_type": "code",
   "execution_count": null,
   "id": "23a2169c-e07c-48bd-a9d7-e75c5fca2c1f",
   "metadata": {},
   "outputs": [],
   "source": []
  },
  {
   "cell_type": "code",
   "execution_count": null,
   "id": "842628ad-9f29-404a-8858-4d1735718b76",
   "metadata": {},
   "outputs": [],
   "source": []
  }
 ],
 "metadata": {
  "kernelspec": {
   "display_name": "keras",
   "language": "python",
   "name": "keras"
  },
  "language_info": {
   "codemirror_mode": {
    "name": "ipython",
    "version": 3
   },
   "file_extension": ".py",
   "mimetype": "text/x-python",
   "name": "python",
   "nbconvert_exporter": "python",
   "pygments_lexer": "ipython3",
   "version": "3.8.13"
  }
 },
 "nbformat": 4,
 "nbformat_minor": 5
}
