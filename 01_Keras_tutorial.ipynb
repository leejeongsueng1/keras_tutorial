{
 "cells": [
  {
   "cell_type": "code",
   "execution_count": 32,
   "id": "5f1643d1-ab40-4769-8ff8-e45cf5381b1e",
   "metadata": {},
   "outputs": [],
   "source": [
    "from keras import layers\n",
    "from keras import models\n",
    "from sklearn.model_selection import train_test_split\n",
    "\n",
    "## keras.util\n",
    "from keras.utils.all_utils import to_categorical\n",
    "\n",
    "## data set\n",
    "from keras.datasets import mnist"
   ]
  },
  {
   "cell_type": "code",
   "execution_count": 14,
   "id": "5f5a1211-934f-4617-86cb-164511376707",
   "metadata": {},
   "outputs": [],
   "source": [
    "## Train, Validation, Test\n",
    "(X_train,y_train), (X_test,y_test) = mnist.load_data()\n",
    "\n",
    "## Validation split\n",
    "X_train, X_val, y_train, y_val = train_test_split(X_train, y_train, test_size=0.2)"
   ]
  },
  {
   "cell_type": "code",
   "execution_count": 15,
   "id": "a6d9b5e0-92b4-4e48-9f2d-ae6f0641da73",
   "metadata": {},
   "outputs": [
    {
     "data": {
      "text/plain": [
       "((48000, 28, 28), (48000,))"
      ]
     },
     "execution_count": 15,
     "metadata": {},
     "output_type": "execute_result"
    }
   ],
   "source": [
    "X_train.shape ,  y_train.shape"
   ]
  },
  {
   "cell_type": "code",
   "execution_count": 38,
   "id": "7288ef98-133d-41cb-ba26-9b2619d08b39",
   "metadata": {},
   "outputs": [],
   "source": [
    "X_train = X_train.reshape(-1,28*28)\n",
    "X_val = X_val.reshape(-1,28*28)\n",
    "X_test = X_test.reshape(-1,28*28)\n",
    "\n",
    "y_train = to_categorical(y_train)\n",
    "y_val = to_categorical(y_val)\n",
    "y_test = to_categorical(y_test)"
   ]
  },
  {
   "cell_type": "code",
   "execution_count": 63,
   "id": "afb64a60-bb07-487a-8037-a6e701558df3",
   "metadata": {},
   "outputs": [],
   "source": [
    "\n",
    "input_shape = X_train.shape[1]\n",
    "\n",
    "network = models.Sequential()\n",
    "network.add(layers.Dense(512, activation='relu', input_shape=(input_shape,)))\n",
    "network.add(layers.Dense(256, activation='relu'))\n",
    "network.add(layers.Dense(128, activation='relu'))\n",
    "network.add(layers.Dense(10, activation='softmax'))"
   ]
  },
  {
   "cell_type": "code",
   "execution_count": 64,
   "id": "6a94dbf4-9bb8-4c57-95f0-63ec711d04c0",
   "metadata": {},
   "outputs": [],
   "source": [
    "opt = 'Rmsprop'\n",
    "loss = 'categorical_crossentropy'\n",
    "metrics = ['accuracy']\n",
    "\n",
    "network.compile(optimizer=opt,\n",
    "               loss=loss,\n",
    "               metrics=metrics)"
   ]
  },
  {
   "cell_type": "code",
   "execution_count": 65,
   "id": "c7b05e0c-b2c8-471f-afee-644334fdc896",
   "metadata": {},
   "outputs": [
    {
     "name": "stdout",
     "output_type": "stream",
     "text": [
      "Epoch 1/10\n",
      "1500/1500 [==============================] - 6s 4ms/step - loss: 1.5142 - accuracy: 0.8570 - val_loss: 0.4137 - val_accuracy: 0.8931\n",
      "Epoch 2/10\n",
      "1500/1500 [==============================] - 6s 4ms/step - loss: 0.4774 - accuracy: 0.9106 - val_loss: 1.3550 - val_accuracy: 0.9051\n",
      "Epoch 3/10\n",
      "1500/1500 [==============================] - 6s 4ms/step - loss: 0.4372 - accuracy: 0.9261 - val_loss: 1.0631 - val_accuracy: 0.8893\n",
      "Epoch 4/10\n",
      "1500/1500 [==============================] - 6s 4ms/step - loss: 0.4556 - accuracy: 0.9239 - val_loss: 0.6917 - val_accuracy: 0.8901\n",
      "Epoch 5/10\n",
      "1500/1500 [==============================] - 5s 4ms/step - loss: 0.4950 - accuracy: 0.9150 - val_loss: 0.8025 - val_accuracy: 0.8885\n",
      "Epoch 6/10\n",
      "1500/1500 [==============================] - 6s 4ms/step - loss: 0.5677 - accuracy: 0.9084 - val_loss: 1.1975 - val_accuracy: 0.8820\n",
      "Epoch 7/10\n",
      "1500/1500 [==============================] - 6s 4ms/step - loss: 0.5465 - accuracy: 0.9020 - val_loss: 0.8876 - val_accuracy: 0.8932\n",
      "Epoch 8/10\n",
      "1500/1500 [==============================] - 6s 4ms/step - loss: 0.6065 - accuracy: 0.9006 - val_loss: 1.1770 - val_accuracy: 0.8802\n",
      "Epoch 9/10\n",
      "1500/1500 [==============================] - 6s 4ms/step - loss: 0.6979 - accuracy: 0.8902 - val_loss: 1.5444 - val_accuracy: 0.8885\n",
      "Epoch 10/10\n",
      "1500/1500 [==============================] - 6s 4ms/step - loss: 0.7922 - accuracy: 0.8803 - val_loss: 1.1700 - val_accuracy: 0.8938\n"
     ]
    }
   ],
   "source": [
    "epochs = 10\n",
    "batch_size = 32\n",
    "validation_set = [X_val,y_val]\n",
    "\n",
    "history = network.fit(X_train,y_train, epochs = epochs, batch_size = batch_size, validation_data= validation_set)"
   ]
  },
  {
   "cell_type": "code",
   "execution_count": 66,
   "id": "ba12604e-94dd-4464-9ce6-79ebabc4f06c",
   "metadata": {},
   "outputs": [
    {
     "name": "stdout",
     "output_type": "stream",
     "text": [
      "Model: \"sequential_13\"\n",
      "_________________________________________________________________\n",
      " Layer (type)                Output Shape              Param #   \n",
      "=================================================================\n",
      " dense_18 (Dense)            (None, 512)               401920    \n",
      "                                                                 \n",
      " dense_19 (Dense)            (None, 256)               131328    \n",
      "                                                                 \n",
      " dense_20 (Dense)            (None, 128)               32896     \n",
      "                                                                 \n",
      " dense_21 (Dense)            (None, 10)                1290      \n",
      "                                                                 \n",
      "=================================================================\n",
      "Total params: 567,434\n",
      "Trainable params: 567,434\n",
      "Non-trainable params: 0\n",
      "_________________________________________________________________\n"
     ]
    }
   ],
   "source": [
    "network.summary()"
   ]
  },
  {
   "cell_type": "code",
   "execution_count": 67,
   "id": "9a9e674c-0ed8-4f73-add2-6deb5176b6ab",
   "metadata": {},
   "outputs": [
    {
     "name": "stdout",
     "output_type": "stream",
     "text": [
      "313/313 [==============================] - 0s 1ms/step - loss: 0.9860 - accuracy: 0.8874\n"
     ]
    },
    {
     "data": {
      "text/plain": [
       "[0.9859574437141418, 0.8873999714851379]"
      ]
     },
     "execution_count": 67,
     "metadata": {},
     "output_type": "execute_result"
    }
   ],
   "source": [
    "network.evaluate(X_test,y_test)"
   ]
  },
  {
   "cell_type": "code",
   "execution_count": null,
   "id": "13eb50d4-5465-4c93-ae71-f847b079a111",
   "metadata": {},
   "outputs": [],
   "source": []
  }
 ],
 "metadata": {
  "kernelspec": {
   "display_name": "keras",
   "language": "python",
   "name": "keras"
  },
  "language_info": {
   "codemirror_mode": {
    "name": "ipython",
    "version": 3
   },
   "file_extension": ".py",
   "mimetype": "text/x-python",
   "name": "python",
   "nbconvert_exporter": "python",
   "pygments_lexer": "ipython3",
   "version": "3.8.13"
  }
 },
 "nbformat": 4,
 "nbformat_minor": 5
}
